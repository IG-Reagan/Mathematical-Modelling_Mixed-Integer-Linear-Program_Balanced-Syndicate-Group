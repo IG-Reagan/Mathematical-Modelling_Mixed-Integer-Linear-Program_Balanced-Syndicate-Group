{
  "nbformat": 4,
  "nbformat_minor": 0,
  "metadata": {
    "colab": {
      "provenance": [],
      "authorship_tag": "ABX9TyNqSgVhZZjb3oNchAGGwjRq",
      "include_colab_link": true
    },
    "kernelspec": {
      "name": "python3",
      "display_name": "Python 3"
    },
    "language_info": {
      "name": "python"
    }
  },
  "cells": [
    {
      "cell_type": "markdown",
      "metadata": {
        "id": "view-in-github",
        "colab_type": "text"
      },
      "source": [
        "<a href=\"https://colab.research.google.com/github/IG-Reagan/Mathematical-Modelling_Mixed-Integer-Linear-Program_Balanced-Syndicate-Group/blob/main/balanced_syndicate_group_MILP.ipynb\" target=\"_parent\"><img src=\"https://colab.research.google.com/assets/colab-badge.svg\" alt=\"Open In Colab\"/></a>"
      ]
    },
    {
      "cell_type": "markdown",
      "source": [
        "## **Balanced Syndicate Group Optimisation - Excel OpenSolver Replication**\n",
        "\n",
        "**Author:** Giwa Iziomo\n",
        "\n",
        "**Objective:**\n",
        "Maximise the average quantitative background (Q) within groups\n",
        "while maintaining balance across gender and cultural background categories. i am replicating my initial solution with OpenSolver on MS Excel now with Python to increase versatility and scalability.\n",
        "\n",
        "**Input:**\n",
        " - balanced_syndicate_dataset.csv\n",
        "\n",
        "**Outputs:**\n",
        " - group_allocation.csv\n",
        " - group_statistics.csv"
      ],
      "metadata": {
        "id": "k6hkbfPG9Iq1"
      }
    },
    {
      "cell_type": "code",
      "source": [
        "# Install PuLP if not already installed\n",
        "try:\n",
        "    import pulp\n",
        "except ImportError:\n",
        "    print(\"Installing PuLP library...\")\n",
        "    import subprocess\n",
        "    import sys\n",
        "    subprocess.check_call([sys.executable, \"-m\", \"pip\", \"install\", \"pulp\", \"-q\"])\n",
        "    print(\"PuLP installed successfully!\\n\")"
      ],
      "metadata": {
        "id": "g8UIPh149DM3"
      },
      "execution_count": 179,
      "outputs": []
    },
    {
      "cell_type": "code",
      "source": [
        "# Import labraries\n",
        "\n",
        "import pandas as pd\n",
        "import numpy as np\n",
        "from pulp import *\n",
        "import warnings\n",
        "warnings.filterwarnings('ignore')"
      ],
      "metadata": {
        "id": "SW1qkBLv-TPT"
      },
      "execution_count": 180,
      "outputs": []
    },
    {
      "cell_type": "code",
      "source": [
        "# Mount Google Drive\n",
        "\n",
        "# Mount Google Drive and load data\n",
        "from google.colab import drive\n",
        "drive.mount('/content/drive')\n",
        "\n",
        "file_path = '/content/drive/My Drive/Projects Portfolio/3.0. MSc in Business Analytics Research/Mathematical Modelling - Balanced Syndicate Group/balanced_syndicate_dataset.csv'"
      ],
      "metadata": {
        "colab": {
          "base_uri": "https://localhost:8080/"
        },
        "id": "iuBae4Gx-Yzw",
        "outputId": "fd6adcfb-a747-47d2-ed02-ae2a4a121b75"
      },
      "execution_count": 181,
      "outputs": [
        {
          "output_type": "stream",
          "name": "stdout",
          "text": [
            "Drive already mounted at /content/drive; to attempt to forcibly remount, call drive.mount(\"/content/drive\", force_remount=True).\n"
          ]
        }
      ]
    },
    {
      "cell_type": "code",
      "source": [
        "print(\"Dataset loaded successfully!\")\n",
        "print(f\"Total students: {len(df)}\")"
      ],
      "metadata": {
        "colab": {
          "base_uri": "https://localhost:8080/"
        },
        "id": "dE3j6yOF-haV",
        "outputId": "e0168a8f-9d01-46dd-8074-b49163ad5bad"
      },
      "execution_count": 182,
      "outputs": [
        {
          "output_type": "stream",
          "name": "stdout",
          "text": [
            "Dataset loaded successfully!\n",
            "Total students: 45\n"
          ]
        }
      ]
    },
    {
      "cell_type": "code",
      "source": [
        "df.head()"
      ],
      "metadata": {
        "colab": {
          "base_uri": "https://localhost:8080/",
          "height": 206
        },
        "id": "_NCy-T2D-xTO",
        "outputId": "026f02af-fc5f-4636-8c60-b6df6c3f72b1"
      },
      "execution_count": 183,
      "outputs": [
        {
          "output_type": "execute_result",
          "data": {
            "text/plain": [
              "   StudentID    Nationality Cultural Background  Gender  \\\n",
              "0      101.0  Saudi Arabian         Middle East  Female   \n",
              "1      102.0  Saudi Arabian         Middle East    Male   \n",
              "2      103.0       Romanian      Eastern Europe  Female   \n",
              "3      104.0        British             British  Female   \n",
              "4      105.0        British             British    Male   \n",
              "\n",
              "   Quantitative Background  \n",
              "0                      6.7  \n",
              "1                      4.0  \n",
              "2                      5.9  \n",
              "3                      8.6  \n",
              "4                      5.0  "
            ],
            "text/html": [
              "\n",
              "  <div id=\"df-6d0f60c9-3efb-4904-8639-32507898b440\" class=\"colab-df-container\">\n",
              "    <div>\n",
              "<style scoped>\n",
              "    .dataframe tbody tr th:only-of-type {\n",
              "        vertical-align: middle;\n",
              "    }\n",
              "\n",
              "    .dataframe tbody tr th {\n",
              "        vertical-align: top;\n",
              "    }\n",
              "\n",
              "    .dataframe thead th {\n",
              "        text-align: right;\n",
              "    }\n",
              "</style>\n",
              "<table border=\"1\" class=\"dataframe\">\n",
              "  <thead>\n",
              "    <tr style=\"text-align: right;\">\n",
              "      <th></th>\n",
              "      <th>StudentID</th>\n",
              "      <th>Nationality</th>\n",
              "      <th>Cultural Background</th>\n",
              "      <th>Gender</th>\n",
              "      <th>Quantitative Background</th>\n",
              "    </tr>\n",
              "  </thead>\n",
              "  <tbody>\n",
              "    <tr>\n",
              "      <th>0</th>\n",
              "      <td>101.0</td>\n",
              "      <td>Saudi Arabian</td>\n",
              "      <td>Middle East</td>\n",
              "      <td>Female</td>\n",
              "      <td>6.7</td>\n",
              "    </tr>\n",
              "    <tr>\n",
              "      <th>1</th>\n",
              "      <td>102.0</td>\n",
              "      <td>Saudi Arabian</td>\n",
              "      <td>Middle East</td>\n",
              "      <td>Male</td>\n",
              "      <td>4.0</td>\n",
              "    </tr>\n",
              "    <tr>\n",
              "      <th>2</th>\n",
              "      <td>103.0</td>\n",
              "      <td>Romanian</td>\n",
              "      <td>Eastern Europe</td>\n",
              "      <td>Female</td>\n",
              "      <td>5.9</td>\n",
              "    </tr>\n",
              "    <tr>\n",
              "      <th>3</th>\n",
              "      <td>104.0</td>\n",
              "      <td>British</td>\n",
              "      <td>British</td>\n",
              "      <td>Female</td>\n",
              "      <td>8.6</td>\n",
              "    </tr>\n",
              "    <tr>\n",
              "      <th>4</th>\n",
              "      <td>105.0</td>\n",
              "      <td>British</td>\n",
              "      <td>British</td>\n",
              "      <td>Male</td>\n",
              "      <td>5.0</td>\n",
              "    </tr>\n",
              "  </tbody>\n",
              "</table>\n",
              "</div>\n",
              "    <div class=\"colab-df-buttons\">\n",
              "\n",
              "  <div class=\"colab-df-container\">\n",
              "    <button class=\"colab-df-convert\" onclick=\"convertToInteractive('df-6d0f60c9-3efb-4904-8639-32507898b440')\"\n",
              "            title=\"Convert this dataframe to an interactive table.\"\n",
              "            style=\"display:none;\">\n",
              "\n",
              "  <svg xmlns=\"http://www.w3.org/2000/svg\" height=\"24px\" viewBox=\"0 -960 960 960\">\n",
              "    <path d=\"M120-120v-720h720v720H120Zm60-500h600v-160H180v160Zm220 220h160v-160H400v160Zm0 220h160v-160H400v160ZM180-400h160v-160H180v160Zm440 0h160v-160H620v160ZM180-180h160v-160H180v160Zm440 0h160v-160H620v160Z\"/>\n",
              "  </svg>\n",
              "    </button>\n",
              "\n",
              "  <style>\n",
              "    .colab-df-container {\n",
              "      display:flex;\n",
              "      gap: 12px;\n",
              "    }\n",
              "\n",
              "    .colab-df-convert {\n",
              "      background-color: #E8F0FE;\n",
              "      border: none;\n",
              "      border-radius: 50%;\n",
              "      cursor: pointer;\n",
              "      display: none;\n",
              "      fill: #1967D2;\n",
              "      height: 32px;\n",
              "      padding: 0 0 0 0;\n",
              "      width: 32px;\n",
              "    }\n",
              "\n",
              "    .colab-df-convert:hover {\n",
              "      background-color: #E2EBFA;\n",
              "      box-shadow: 0px 1px 2px rgba(60, 64, 67, 0.3), 0px 1px 3px 1px rgba(60, 64, 67, 0.15);\n",
              "      fill: #174EA6;\n",
              "    }\n",
              "\n",
              "    .colab-df-buttons div {\n",
              "      margin-bottom: 4px;\n",
              "    }\n",
              "\n",
              "    [theme=dark] .colab-df-convert {\n",
              "      background-color: #3B4455;\n",
              "      fill: #D2E3FC;\n",
              "    }\n",
              "\n",
              "    [theme=dark] .colab-df-convert:hover {\n",
              "      background-color: #434B5C;\n",
              "      box-shadow: 0px 1px 3px 1px rgba(0, 0, 0, 0.15);\n",
              "      filter: drop-shadow(0px 1px 2px rgba(0, 0, 0, 0.3));\n",
              "      fill: #FFFFFF;\n",
              "    }\n",
              "  </style>\n",
              "\n",
              "    <script>\n",
              "      const buttonEl =\n",
              "        document.querySelector('#df-6d0f60c9-3efb-4904-8639-32507898b440 button.colab-df-convert');\n",
              "      buttonEl.style.display =\n",
              "        google.colab.kernel.accessAllowed ? 'block' : 'none';\n",
              "\n",
              "      async function convertToInteractive(key) {\n",
              "        const element = document.querySelector('#df-6d0f60c9-3efb-4904-8639-32507898b440');\n",
              "        const dataTable =\n",
              "          await google.colab.kernel.invokeFunction('convertToInteractive',\n",
              "                                                    [key], {});\n",
              "        if (!dataTable) return;\n",
              "\n",
              "        const docLinkHtml = 'Like what you see? Visit the ' +\n",
              "          '<a target=\"_blank\" href=https://colab.research.google.com/notebooks/data_table.ipynb>data table notebook</a>'\n",
              "          + ' to learn more about interactive tables.';\n",
              "        element.innerHTML = '';\n",
              "        dataTable['output_type'] = 'display_data';\n",
              "        await google.colab.output.renderOutput(dataTable, element);\n",
              "        const docLink = document.createElement('div');\n",
              "        docLink.innerHTML = docLinkHtml;\n",
              "        element.appendChild(docLink);\n",
              "      }\n",
              "    </script>\n",
              "  </div>\n",
              "\n",
              "\n",
              "    <div id=\"df-d1b77ea4-0f48-43ec-8e3c-fb5fdc6dc0d7\">\n",
              "      <button class=\"colab-df-quickchart\" onclick=\"quickchart('df-d1b77ea4-0f48-43ec-8e3c-fb5fdc6dc0d7')\"\n",
              "                title=\"Suggest charts\"\n",
              "                style=\"display:none;\">\n",
              "\n",
              "<svg xmlns=\"http://www.w3.org/2000/svg\" height=\"24px\"viewBox=\"0 0 24 24\"\n",
              "     width=\"24px\">\n",
              "    <g>\n",
              "        <path d=\"M19 3H5c-1.1 0-2 .9-2 2v14c0 1.1.9 2 2 2h14c1.1 0 2-.9 2-2V5c0-1.1-.9-2-2-2zM9 17H7v-7h2v7zm4 0h-2V7h2v10zm4 0h-2v-4h2v4z\"/>\n",
              "    </g>\n",
              "</svg>\n",
              "      </button>\n",
              "\n",
              "<style>\n",
              "  .colab-df-quickchart {\n",
              "      --bg-color: #E8F0FE;\n",
              "      --fill-color: #1967D2;\n",
              "      --hover-bg-color: #E2EBFA;\n",
              "      --hover-fill-color: #174EA6;\n",
              "      --disabled-fill-color: #AAA;\n",
              "      --disabled-bg-color: #DDD;\n",
              "  }\n",
              "\n",
              "  [theme=dark] .colab-df-quickchart {\n",
              "      --bg-color: #3B4455;\n",
              "      --fill-color: #D2E3FC;\n",
              "      --hover-bg-color: #434B5C;\n",
              "      --hover-fill-color: #FFFFFF;\n",
              "      --disabled-bg-color: #3B4455;\n",
              "      --disabled-fill-color: #666;\n",
              "  }\n",
              "\n",
              "  .colab-df-quickchart {\n",
              "    background-color: var(--bg-color);\n",
              "    border: none;\n",
              "    border-radius: 50%;\n",
              "    cursor: pointer;\n",
              "    display: none;\n",
              "    fill: var(--fill-color);\n",
              "    height: 32px;\n",
              "    padding: 0;\n",
              "    width: 32px;\n",
              "  }\n",
              "\n",
              "  .colab-df-quickchart:hover {\n",
              "    background-color: var(--hover-bg-color);\n",
              "    box-shadow: 0 1px 2px rgba(60, 64, 67, 0.3), 0 1px 3px 1px rgba(60, 64, 67, 0.15);\n",
              "    fill: var(--button-hover-fill-color);\n",
              "  }\n",
              "\n",
              "  .colab-df-quickchart-complete:disabled,\n",
              "  .colab-df-quickchart-complete:disabled:hover {\n",
              "    background-color: var(--disabled-bg-color);\n",
              "    fill: var(--disabled-fill-color);\n",
              "    box-shadow: none;\n",
              "  }\n",
              "\n",
              "  .colab-df-spinner {\n",
              "    border: 2px solid var(--fill-color);\n",
              "    border-color: transparent;\n",
              "    border-bottom-color: var(--fill-color);\n",
              "    animation:\n",
              "      spin 1s steps(1) infinite;\n",
              "  }\n",
              "\n",
              "  @keyframes spin {\n",
              "    0% {\n",
              "      border-color: transparent;\n",
              "      border-bottom-color: var(--fill-color);\n",
              "      border-left-color: var(--fill-color);\n",
              "    }\n",
              "    20% {\n",
              "      border-color: transparent;\n",
              "      border-left-color: var(--fill-color);\n",
              "      border-top-color: var(--fill-color);\n",
              "    }\n",
              "    30% {\n",
              "      border-color: transparent;\n",
              "      border-left-color: var(--fill-color);\n",
              "      border-top-color: var(--fill-color);\n",
              "      border-right-color: var(--fill-color);\n",
              "    }\n",
              "    40% {\n",
              "      border-color: transparent;\n",
              "      border-right-color: var(--fill-color);\n",
              "      border-top-color: var(--fill-color);\n",
              "    }\n",
              "    60% {\n",
              "      border-color: transparent;\n",
              "      border-right-color: var(--fill-color);\n",
              "    }\n",
              "    80% {\n",
              "      border-color: transparent;\n",
              "      border-right-color: var(--fill-color);\n",
              "      border-bottom-color: var(--fill-color);\n",
              "    }\n",
              "    90% {\n",
              "      border-color: transparent;\n",
              "      border-bottom-color: var(--fill-color);\n",
              "    }\n",
              "  }\n",
              "</style>\n",
              "\n",
              "      <script>\n",
              "        async function quickchart(key) {\n",
              "          const quickchartButtonEl =\n",
              "            document.querySelector('#' + key + ' button');\n",
              "          quickchartButtonEl.disabled = true;  // To prevent multiple clicks.\n",
              "          quickchartButtonEl.classList.add('colab-df-spinner');\n",
              "          try {\n",
              "            const charts = await google.colab.kernel.invokeFunction(\n",
              "                'suggestCharts', [key], {});\n",
              "          } catch (error) {\n",
              "            console.error('Error during call to suggestCharts:', error);\n",
              "          }\n",
              "          quickchartButtonEl.classList.remove('colab-df-spinner');\n",
              "          quickchartButtonEl.classList.add('colab-df-quickchart-complete');\n",
              "        }\n",
              "        (() => {\n",
              "          let quickchartButtonEl =\n",
              "            document.querySelector('#df-d1b77ea4-0f48-43ec-8e3c-fb5fdc6dc0d7 button');\n",
              "          quickchartButtonEl.style.display =\n",
              "            google.colab.kernel.accessAllowed ? 'block' : 'none';\n",
              "        })();\n",
              "      </script>\n",
              "    </div>\n",
              "\n",
              "    </div>\n",
              "  </div>\n"
            ],
            "application/vnd.google.colaboratory.intrinsic+json": {
              "type": "dataframe",
              "variable_name": "df",
              "summary": "{\n  \"name\": \"df\",\n  \"rows\": 45,\n  \"fields\": [\n    {\n      \"column\": \"StudentID\",\n      \"properties\": {\n        \"dtype\": \"number\",\n        \"std\": 13.133925536563698,\n        \"min\": 101.0,\n        \"max\": 145.0,\n        \"num_unique_values\": 45,\n        \"samples\": [\n          140.0,\n          126.0,\n          127.0\n        ],\n        \"semantic_type\": \"\",\n        \"description\": \"\"\n      }\n    },\n    {\n      \"column\": \"Nationality\",\n      \"properties\": {\n        \"dtype\": \"category\",\n        \"num_unique_values\": 15,\n        \"samples\": [\n          \"Indian\",\n          \"Iranian\",\n          \"Saudi Arabian\"\n        ],\n        \"semantic_type\": \"\",\n        \"description\": \"\"\n      }\n    },\n    {\n      \"column\": \"Cultural Background\",\n      \"properties\": {\n        \"dtype\": \"category\",\n        \"num_unique_values\": 6,\n        \"samples\": [\n          \"Middle East\",\n          \"Eastern Europe\",\n          \"South Asia\"\n        ],\n        \"semantic_type\": \"\",\n        \"description\": \"\"\n      }\n    },\n    {\n      \"column\": \"Gender\",\n      \"properties\": {\n        \"dtype\": \"category\",\n        \"num_unique_values\": 2,\n        \"samples\": [\n          \"Male\",\n          \"Female\"\n        ],\n        \"semantic_type\": \"\",\n        \"description\": \"\"\n      }\n    },\n    {\n      \"column\": \"Quantitative Background\",\n      \"properties\": {\n        \"dtype\": \"number\",\n        \"std\": 1.5387650827198995,\n        \"min\": 4.0,\n        \"max\": 9.2,\n        \"num_unique_values\": 32,\n        \"samples\": [\n          7.5,\n          7.6\n        ],\n        \"semantic_type\": \"\",\n        \"description\": \"\"\n      }\n    }\n  ]\n}"
            }
          },
          "metadata": {},
          "execution_count": 183
        }
      ]
    },
    {
      "cell_type": "code",
      "source": [
        "# Data preprocessing\n",
        "\n",
        "# Check Gender distribution\n",
        "print(\"\\nGender Distribution:\")\n",
        "print(df['Gender'].value_counts())"
      ],
      "metadata": {
        "colab": {
          "base_uri": "https://localhost:8080/"
        },
        "id": "ZjiPzukN_ZQK",
        "outputId": "cc685186-2c2b-4eeb-9f17-5208c8d21b17"
      },
      "execution_count": 184,
      "outputs": [
        {
          "output_type": "stream",
          "name": "stdout",
          "text": [
            "\n",
            "Gender Distribution:\n",
            "Gender\n",
            "Female    24\n",
            "Male      21\n",
            "Name: count, dtype: int64\n"
          ]
        }
      ]
    },
    {
      "cell_type": "code",
      "source": [
        "# Check Cultural background distribution\n",
        "\n",
        "print(\"\\nCultural Background Distribution:\")\n",
        "print(df['Cultural Background'].value_counts())"
      ],
      "metadata": {
        "colab": {
          "base_uri": "https://localhost:8080/"
        },
        "id": "N8k23Yeb_fB3",
        "outputId": "ac58e4b7-d506-4dd8-e5fd-577c18dcc18f"
      },
      "execution_count": 185,
      "outputs": [
        {
          "output_type": "stream",
          "name": "stdout",
          "text": [
            "\n",
            "Cultural Background Distribution:\n",
            "Cultural Background\n",
            "East Asia         20\n",
            "British            9\n",
            "Eastern Europe     6\n",
            "Middle East        5\n",
            "South Asia         3\n",
            "Western Europe     2\n",
            "Name: count, dtype: int64\n"
          ]
        }
      ]
    },
    {
      "cell_type": "code",
      "source": [
        "# Check Nationality distribution\n",
        "\n",
        "print(\"\\nNationality Distribution:\")\n",
        "print(df['Nationality'].value_counts())"
      ],
      "metadata": {
        "colab": {
          "base_uri": "https://localhost:8080/"
        },
        "id": "yU8Jsxlo_tuW",
        "outputId": "be206dde-4059-425e-a72a-8c09b78ecdd8"
      },
      "execution_count": 186,
      "outputs": [
        {
          "output_type": "stream",
          "name": "stdout",
          "text": [
            "\n",
            "Nationality Distribution:\n",
            "Nationality\n",
            "Chinese          15\n",
            "British           9\n",
            "Saudi Arabian     3\n",
            "Indian            3\n",
            "Vietnamise        3\n",
            "Russian           3\n",
            "Romanian          1\n",
            "Lithuanian        1\n",
            "German            1\n",
            "Spanish           1\n",
            "Mongolian         1\n",
            "Iranian           1\n",
            "Turkish           1\n",
            "Bulgarian         1\n",
            "Japanese          1\n",
            "Name: count, dtype: int64\n"
          ]
        }
      ]
    },
    {
      "cell_type": "code",
      "source": [
        "# Check Quantitative background distribution\n",
        "\n",
        "print(\"\\nQuantitative Background Statistics:\")\n",
        "print(df['Quantitative Background'].describe())"
      ],
      "metadata": {
        "colab": {
          "base_uri": "https://localhost:8080/"
        },
        "id": "yOQkDbao_wb7",
        "outputId": "ed3be595-db34-44ce-bec4-3eb978cdeedc"
      },
      "execution_count": 187,
      "outputs": [
        {
          "output_type": "stream",
          "name": "stdout",
          "text": [
            "\n",
            "Quantitative Background Statistics:\n",
            "count    45.000000\n",
            "mean      6.975556\n",
            "std       1.538765\n",
            "min       4.000000\n",
            "25%       5.600000\n",
            "50%       7.400000\n",
            "75%       8.300000\n",
            "max       9.200000\n",
            "Name: Quantitative Background, dtype: float64\n"
          ]
        }
      ]
    },
    {
      "cell_type": "code",
      "source": [
        "# Define Parameters\n",
        "num_students = len(df)\n",
        "num_groups = 9  # 45 students / 5 per group\n",
        "group_size = 5\n"
      ],
      "metadata": {
        "id": "vlUcMWD5_xqT"
      },
      "execution_count": 188,
      "outputs": []
    },
    {
      "cell_type": "code",
      "source": [
        "# Create student and group indices\n",
        "students = df['StudentID'].tolist()\n",
        "groups = list(range(1, num_groups + 1))\n",
        "\n",
        "print(f\"\\nAllocating {num_students} students into {num_groups} groups of {group_size} members each\")"
      ],
      "metadata": {
        "colab": {
          "base_uri": "https://localhost:8080/"
        },
        "id": "HcsUxinTARfE",
        "outputId": "81052ece-6883-4b72-f937-588461e93a6e"
      },
      "execution_count": 189,
      "outputs": [
        {
          "output_type": "stream",
          "name": "stdout",
          "text": [
            "\n",
            "Allocating 45 students into 9 groups of 5 members each\n"
          ]
        }
      ]
    },
    {
      "cell_type": "code",
      "source": [
        "# Extract data for constraints\n",
        "gender = df.set_index('StudentID')['Gender'].to_dict()\n",
        "culture = df.set_index('StudentID')['Cultural Background'].to_dict()\n",
        "nationality = df.set_index('StudentID')['Nationality'].to_dict()\n",
        "quant_bg = df.set_index('StudentID')['Quantitative Background'].to_dict()"
      ],
      "metadata": {
        "id": "U84aVFTnAV83"
      },
      "execution_count": 190,
      "outputs": []
    },
    {
      "cell_type": "code",
      "source": [
        "# Calculate target averages for balanced groups\n",
        "avg_female_per_group = sum(1 for g in gender.values() if g == 'Female') / num_groups\n",
        "avg_male_per_group = sum(1 for g in gender.values() if g == 'Male') / num_groups\n",
        "\n",
        "print(f\"\\nTarget average females per group: {avg_female_per_group:.2f}\")\n",
        "print(f\"Target average males per group: {avg_male_per_group:.2f}\")"
      ],
      "metadata": {
        "colab": {
          "base_uri": "https://localhost:8080/"
        },
        "id": "DpawrtjIAg2s",
        "outputId": "066a95bf-a7a3-4e9e-f045-064406cd2fcf"
      },
      "execution_count": 191,
      "outputs": [
        {
          "output_type": "stream",
          "name": "stdout",
          "text": [
            "\n",
            "Target average females per group: 2.67\n",
            "Target average males per group: 2.33\n"
          ]
        }
      ]
    },
    {
      "cell_type": "code",
      "source": [
        "# Cultural background targets\n",
        "culture_counts = df['Cultural Background'].value_counts()\n",
        "culture_targets = {c: count / num_groups for c, count in culture_counts.items()}\n",
        "\n",
        "print(\"\\nTarget cultural background per group:\")\n",
        "for c, target in culture_targets.items():\n",
        "    print(f\"  {c}: {target:.2f}\")"
      ],
      "metadata": {
        "colab": {
          "base_uri": "https://localhost:8080/"
        },
        "id": "plDbxQEIAjlu",
        "outputId": "3586fe39-8287-4c32-8228-ca19503f3ec3"
      },
      "execution_count": 192,
      "outputs": [
        {
          "output_type": "stream",
          "name": "stdout",
          "text": [
            "\n",
            "Target cultural background per group:\n",
            "  East Asia: 2.22\n",
            "  British: 1.00\n",
            "  Eastern Europe: 0.67\n",
            "  Middle East: 0.56\n",
            "  South Asia: 0.33\n",
            "  Western Europe: 0.22\n"
          ]
        }
      ]
    },
    {
      "cell_type": "code",
      "source": [
        "# Create optimization model\n",
        "\n",
        "model = LpProblem(\"Balanced_Syndicate_Groups\", LpMaximize)\n",
        "\n",
        "# Decision variables: x[s,g] = 1 if student s is assigned to group g\n",
        "x = LpVariable.dicts(\"assign\", [(s, g) for s in students for g in groups], cat='Binary')"
      ],
      "metadata": {
        "id": "M_tOvuStAzfD"
      },
      "execution_count": 193,
      "outputs": []
    },
    {
      "cell_type": "code",
      "source": [
        "# OBJECTIVE: Maximize average quantitative background while minimizing variance\n",
        "# I'm using a weighted objective that balances both goals\n",
        "avg_quant = sum(quant_bg.values()) / num_students\n",
        "\n",
        "# Objective function: Maximize sum of quantitative backgrounds (proxy for balance)\n",
        "model += lpSum([x[s, g] * quant_bg[s] for s in students for g in groups])\n",
        "\n",
        "print(\"Objective function defined\")"
      ],
      "metadata": {
        "colab": {
          "base_uri": "https://localhost:8080/"
        },
        "id": "Osh-385SBHq8",
        "outputId": "3aa1fc9c-3447-4385-b303-470bd47e6a7a"
      },
      "execution_count": 194,
      "outputs": [
        {
          "output_type": "stream",
          "name": "stdout",
          "text": [
            "Objective function defined\n"
          ]
        }
      ]
    },
    {
      "cell_type": "code",
      "source": [
        "# CONSTRAINTS\n",
        "\n",
        "# 1. Each student must be in exactly one group\n",
        "for s in students:\n",
        "    model += lpSum([x[s, g] for g in groups]) == 1, f\"Student_{s}_OneGroup\"\n",
        "\n",
        "print(\"Added constraint: Each student in exactly one group\")\n",
        "\n",
        "# 2. Each group must have exactly 5 members\n",
        "for g in groups:\n",
        "    model += lpSum([x[s, g] for s in students]) == group_size, f\"Group_{g}_Size\"\n",
        "\n",
        "print(\"Added constraint: Each group has exactly 5 members\")\n",
        "\n",
        "# 3. Gender balance constraints (within acceptable range)\n",
        "# Allow flexibility: target ± 1 for each gender\n",
        "for g in groups:\n",
        "    # Females in group g\n",
        "    females_in_g = lpSum([x[s, g] for s in students if gender[s] == 'Female'])\n",
        "    model += females_in_g >= avg_female_per_group - 1, f\"Group_{g}_MinFemales\"\n",
        "    model += females_in_g <= avg_female_per_group + 1, f\"Group_{g}_MaxFemales\"\n",
        "\n",
        "    # Males in group g (implicit from females constraint, but add for clarity)\n",
        "    males_in_g = lpSum([x[s, g] for s in students if gender[s] == 'Male'])\n",
        "    model += males_in_g >= avg_male_per_group - 1, f\"Group_{g}_MinMales\"\n",
        "    model += males_in_g <= avg_male_per_group + 1, f\"Group_{g}_MaxMales\"\n",
        "\n",
        "print(\"Added constraint: Gender balance across groups\")\n",
        "\n",
        "# 4. Cultural background balance constraints\n",
        "# For each cultural background, try to distribute evenly\n",
        "for c in culture_counts.index:\n",
        "    target = culture_targets[c]\n",
        "    for g in groups:\n",
        "        students_with_culture = [s for s in students if culture[s] == c]\n",
        "        if students_with_culture:\n",
        "            culture_in_g = lpSum([x[s, g] for s in students_with_culture])\n",
        "            # Allow some flexibility: target ± 1\n",
        "            model += culture_in_g >= max(0, target - 1), f\"Group_{g}_Min_{c.replace(' ', '_')}\"\n",
        "            model += culture_in_g <= target + 1.5, f\"Group_{g}_Max_{c.replace(' ', '_')}\"\n",
        "\n",
        "print(\"Added constraint: Cultural background balance across groups\")\n",
        "\n",
        "# 5. British students constraint - at least 1 per group\n",
        "british_students = [s for s in students if nationality[s] == 'British']\n",
        "\n",
        "for g in groups:\n",
        "    british_in_g = lpSum([x[s, g] for s in british_students])\n",
        "    model += british_in_g >= 1, f\"Group_{g}_MinBritish\"\n",
        "\n",
        "print(\"Added constraint: At least 1 British student per group\")\n",
        "\n",
        "# 6. Nationality pairing for international students\n",
        "# Try to pair students with same nationality (excluding British)\n",
        "non_british_nationalities = [n for n in df['Nationality'].unique() if n != 'British']\n",
        "\n",
        "for nat in non_british_nationalities:\n",
        "    students_with_nat = [s for s in students if nationality[s] == nat]\n",
        "    if len(students_with_nat) >= 2:\n",
        "        # Encourage pairing: if one student from this nationality is in a group,\n",
        "        # try to have another one too\n",
        "        for g in groups:\n",
        "            nat_in_g = lpSum([x[s, g] for s in students_with_nat])\n",
        "            # If any, encourage at least 2 (but don't require it strictly)\n",
        "            # This is handled implicitly through the objective and other constraints\n",
        "\n",
        "print(\"Added constraint: Nationality pairing preferences\")\n",
        "\n",
        "# 7. Quantitative background balance\n",
        "# Ensure each group has similar average quantitative background\n",
        "for g in groups:\n",
        "    group_quant_sum = lpSum([x[s, g] * quant_bg[s] for s in students])\n",
        "    # Target: each group should have average close to overall average\n",
        "    # With 5 students per group, target sum = 5 * avg_quant\n",
        "    target_sum = group_size * avg_quant\n",
        "    # Allow variation of ±2 from target\n",
        "    model += group_quant_sum >= target_sum - 2, f\"Group_{g}_MinQuant\"\n",
        "    model += group_quant_sum <= target_sum + 2, f\"Group_{g}_MaxQuant\"\n",
        "\n",
        "print(\"Added constraint: Quantitative background balance\")"
      ],
      "metadata": {
        "colab": {
          "base_uri": "https://localhost:8080/"
        },
        "id": "-j122Z5cBJ63",
        "outputId": "2b7eb787-9fc8-466e-80f1-68500e06f435"
      },
      "execution_count": 195,
      "outputs": [
        {
          "output_type": "stream",
          "name": "stdout",
          "text": [
            "Added constraint: Each student in exactly one group\n",
            "Added constraint: Each group has exactly 5 members\n",
            "Added constraint: Gender balance across groups\n",
            "Added constraint: Cultural background balance across groups\n",
            "Added constraint: At least 1 British student per group\n",
            "Added constraint: Nationality pairing preferences\n",
            "Added constraint: Quantitative background balance\n"
          ]
        }
      ]
    },
    {
      "cell_type": "code",
      "source": [
        "# OPTIMISATION MODEL\n",
        "\n",
        "# Use CBC solver (default in PuLP)\n",
        "solver = PULP_CBC_CMD(msg=1, timeLimit=300)  # 5 minute time limit\n",
        "model.solve(solver)\n",
        "\n",
        "# Check solution status\n",
        "print(\"\\n\")\n",
        "print(\"SOLUTION STATUS\")\n",
        "print(\"=\"*30)\n",
        "print(f\"Status: {LpStatus[model.status]}\")\n",
        "print(f\"Objective Value: {value(model.objective):.2f}\")\n",
        "\n",
        "if model.status == 1:  # Optimal solution found\n",
        "\n",
        "    # Extract solution\n",
        "    allocation = {}\n",
        "    for s in students:\n",
        "        for g in groups:\n",
        "            if value(x[s, g]) == 1:\n",
        "                allocation[s] = g\n",
        "                break\n",
        "\n",
        "    # Create results dataframe\n",
        "    results_df = df.copy()\n",
        "    results_df['Assigned_Group'] = results_df['StudentID'].map(allocation)\n",
        "    results_df = results_df.sort_values(['Assigned_Group', 'StudentID'])\n",
        "\n",
        "    print(\"\\n\")\n",
        "    print(\"GROUP ALLOCATION RESULTS\")\n",
        "    print(\"=\"*30)\n",
        "\n",
        "    # Analyze each group\n",
        "    group_stats = []\n",
        "\n",
        "    for g in groups:\n",
        "        group_students = results_df[results_df['Assigned_Group'] == g]\n",
        "\n",
        "        stats = {\n",
        "            'Group': f'G{g}',\n",
        "            'Size': len(group_students),\n",
        "            'Females': sum(group_students['Gender'] == 'Female'),\n",
        "            'Males': sum(group_students['Gender'] == 'Male'),\n",
        "            'Avg_Quant': group_students['Quantitative Background'].mean(),\n",
        "        }\n",
        "\n",
        "        # Count cultural backgrounds\n",
        "        culture_dist = group_students['Cultural Background'].value_counts()\n",
        "        for c in culture_counts.index:\n",
        "            stats[f'{c}'] = culture_dist.get(c, 0)\n",
        "\n",
        "        group_stats.append(stats)\n",
        "\n",
        "    stats_df = pd.DataFrame(group_stats)\n",
        "\n",
        "    print(\"\\nGroup Summary:\")\n",
        "    print(stats_df.to_string(index=False))\n",
        "\n",
        "    # Calculate variance metrics\n",
        "    print(\"\\n\")\n",
        "    print(\"BALANCE METRICS\")\n",
        "    print(\"=\"*30)\n",
        "\n",
        "    avg_quants = stats_df['Avg_Quant'].values\n",
        "    variance = np.var(avg_quants)\n",
        "    std_dev = np.std(avg_quants)\n",
        "    mean_quant = np.mean(avg_quants)\n",
        "    cv = (std_dev / mean_quant) * 100 if mean_quant > 0 else 0\n",
        "\n",
        "    print(f\"\\nQuantitative Background Variation:\")\n",
        "    print(f\"  Variance: {variance:.4f}\")\n",
        "    print(f\"  Standard Deviation: {std_dev:.4f}\")\n",
        "    print(f\"  Mean: {mean_quant:.4f}\")\n",
        "    print(f\"  Coefficient of Variation: {cv:.2f}%\")\n",
        "\n",
        "    print(f\"\\nGender Distribution:\")\n",
        "    print(f\"  Female - Min: {stats_df['Females'].min()}, Max: {stats_df['Females'].max()}, Avg: {stats_df['Females'].mean():.2f}\")\n",
        "    print(f\"  Male - Min: {stats_df['Males'].min()}, Max: {stats_df['Males'].max()}, Avg: {stats_df['Males'].mean():.2f}\")\n",
        "\n",
        "    # Detailed student allocation\n",
        "    print(\"\\n\")\n",
        "    print(\"DETAILED STUDENT ALLOCATION\")\n",
        "    print(\"=\"*30)\n",
        "\n",
        "    display_cols = ['StudentID', 'Assigned_Group', 'Nationality',\n",
        "                    'Cultural Background', 'Gender', 'Quantitative Background']\n",
        "    print(results_df[display_cols].to_string(index=False))\n",
        "\n",
        "    # Save results\n",
        "    output_path = '/content/drive/My Drive/Projects Portfolio/3.0. MSc in Business Analytics Research/Mathematical Modelling - Balanced Syndicate Group/group_allocation.csv'\n",
        "    results_df.to_csv(output_path, index=False)\n",
        "    print(f\"\\nResults saved to: {output_path}\")\n",
        "\n",
        "    # Export group statistics\n",
        "    stats_output_path = '/content/drive/My Drive/Projects Portfolio/3.0. MSc in Business Analytics Research/Mathematical Modelling - Balanced Syndicate Group/group_statistics.csv'\n",
        "    stats_df.to_csv(stats_output_path, index=False)\n",
        "    print(f\"Group statistics saved to: {stats_output_path}\")\n",
        "\n",
        "else:\n",
        "    print(\"\\n Optimization did not find an optimal solution.\")\n",
        "    print(\"Consider relaxing some constraints or adjusting parameters.\")"
      ],
      "metadata": {
        "colab": {
          "base_uri": "https://localhost:8080/"
        },
        "id": "FYPE2gPrBmX6",
        "outputId": "ec6e9e74-d1a8-491e-99d9-a739f018715f"
      },
      "execution_count": 196,
      "outputs": [
        {
          "output_type": "stream",
          "name": "stdout",
          "text": [
            "\n",
            "\n",
            "SOLUTION STATUS\n",
            "==============================\n",
            "Status: Optimal\n",
            "Objective Value: 313.90\n",
            "\n",
            "\n",
            "GROUP ALLOCATION RESULTS\n",
            "==============================\n",
            "\n",
            "Group Summary:\n",
            "Group  Size  Females  Males  Avg_Quant  East Asia  British  Eastern Europe  Middle East  South Asia  Western Europe\n",
            "   G1     5        2      3       7.04          2        1               1            1           0               0\n",
            "   G2     5        3      2       7.04          2        1               1            1           0               0\n",
            "   G3     5        3      2       7.12          3        1               0            0           0               1\n",
            "   G4     5        2      3       6.96          2        1               0            1           1               0\n",
            "   G5     5        2      3       6.78          2        1               1            1           0               0\n",
            "   G6     5        3      2       7.04          2        1               2            0           0               0\n",
            "   G7     5        3      2       6.76          3        1               0            0           1               0\n",
            "   G8     5        3      2       6.78          2        1               0            1           0               1\n",
            "   G9     5        3      2       7.26          2        1               1            0           1               0\n",
            "\n",
            "\n",
            "BALANCE METRICS\n",
            "==============================\n",
            "\n",
            "Quantitative Background Variation:\n",
            "  Variance: 0.0264\n",
            "  Standard Deviation: 0.1624\n",
            "  Mean: 6.9756\n",
            "  Coefficient of Variation: 2.33%\n",
            "\n",
            "Gender Distribution:\n",
            "  Female - Min: 2, Max: 3, Avg: 2.67\n",
            "  Male - Min: 2, Max: 3, Avg: 2.33\n",
            "\n",
            "\n",
            "DETAILED STUDENT ALLOCATION\n",
            "==============================\n",
            " StudentID  Assigned_Group   Nationality Cultural Background Gender  Quantitative Background\n",
            "     107.0               1       British             British   Male                      8.4\n",
            "     115.0               1 Saudi Arabian         Middle East   Male                      8.3\n",
            "     122.0               1     Mongolian           East Asia   Male                      4.2\n",
            "     123.0               1       Chinese           East Asia Female                      5.5\n",
            "     137.0               1     Bulgarian      Eastern Europe Female                      8.8\n",
            "     101.0               2 Saudi Arabian         Middle East Female                      6.7\n",
            "     126.0               2    Vietnamise           East Asia   Male                      7.4\n",
            "     132.0               2       Chinese           East Asia Female                      8.7\n",
            "     139.0               2       Russian      Eastern Europe   Male                      7.7\n",
            "     140.0               2       British             British Female                      4.7\n",
            "     108.0               3       Chinese           East Asia Female                      8.7\n",
            "     109.0               3       British             British   Male                      7.8\n",
            "     113.0               3       Spanish      Western Europe Female                      7.0\n",
            "     120.0               3       Chinese           East Asia Female                      7.2\n",
            "     133.0               3       Chinese           East Asia   Male                      4.9\n",
            "     110.0               4       British             British   Male                      7.2\n",
            "     112.0               4       Chinese           East Asia   Male                      7.7\n",
            "     125.0               4        Indian          South Asia   Male                      8.3\n",
            "     128.0               4       Turkish         Middle East Female                      4.1\n",
            "     141.0               4       Chinese           East Asia Female                      7.5\n",
            "     105.0               5       British             British   Male                      5.0\n",
            "     118.0               5    Lithuanian      Eastern Europe   Male                      9.1\n",
            "     127.0               5       Iranian         Middle East Female                      7.3\n",
            "     138.0               5      Japanese           East Asia   Male                      4.9\n",
            "     142.0               5       Chinese           East Asia Female                      7.6\n",
            "     103.0               6      Romanian      Eastern Europe Female                      5.9\n",
            "     119.0               6       Russian      Eastern Europe   Male                      7.6\n",
            "     121.0               6       Chinese           East Asia   Male                      5.2\n",
            "     124.0               6       British             British Female                      8.6\n",
            "     130.0               6    Vietnamise           East Asia Female                      7.9\n",
            "     106.0               7       Chinese           East Asia   Male                      7.0\n",
            "     114.0               7       Chinese           East Asia   Male                      8.0\n",
            "     117.0               7       British             British Female                      8.5\n",
            "     129.0               7        Indian          South Asia Female                      4.6\n",
            "     144.0               7       Chinese           East Asia Female                      5.7\n",
            "     102.0               8 Saudi Arabian         Middle East   Male                      4.0\n",
            "     104.0               8       British             British Female                      8.6\n",
            "     111.0               8       Chinese           East Asia Female                      7.0\n",
            "     116.0               8        German      Western Europe   Male                      8.7\n",
            "     135.0               8       Chinese           East Asia Female                      5.6\n",
            "     131.0               9    Vietnamise           East Asia   Male                      8.0\n",
            "     134.0               9        Indian          South Asia Female                      5.2\n",
            "     136.0               9       British             British   Male                      9.2\n",
            "     143.0               9       Chinese           East Asia Female                      7.9\n",
            "     145.0               9       Russian      Eastern Europe Female                      6.0\n",
            "\n",
            "Results saved to: /content/drive/My Drive/Projects Portfolio/3.0. MSc in Business Analytics Research/Mathematical Modelling - Balanced Syndicate Group/group_allocation.csv\n",
            "Group statistics saved to: /content/drive/My Drive/Projects Portfolio/3.0. MSc in Business Analytics Research/Mathematical Modelling - Balanced Syndicate Group/group_statistics.csv\n"
          ]
        }
      ]
    },
    {
      "cell_type": "code",
      "source": [],
      "metadata": {
        "id": "LdNzWEgUDAGq"
      },
      "execution_count": 196,
      "outputs": []
    }
  ]
}